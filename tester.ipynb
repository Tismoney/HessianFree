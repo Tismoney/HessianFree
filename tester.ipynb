{
 "cells": [
  {
   "cell_type": "code",
   "execution_count": 1,
   "metadata": {},
   "outputs": [],
   "source": [
    "from befree.model import get_model\n",
    "from befree.datasets import get_dataset\n",
    "from befree.optimizers import get_optimizer\n",
    "from befree.config import get_config\n",
    "\n",
    "config = get_config('befree/config/mlpa.yaml')\n",
    "train, test = get_dataset(config['dataset'])\n",
    "model = get_model(config['model'])\n",
    "optim = get_optimizer(model.parameters(), config['optimizer'])"
   ]
  },
  {
   "cell_type": "code",
   "execution_count": 2,
   "metadata": {},
   "outputs": [],
   "source": [
    "# import torch\n",
    "# import torch.nn.functional as F\n",
    "# for x,y in train:\n",
    "#     x1 = x[:, :, :10, :10]\n",
    "#     model_res = lambda: model(x1)\n",
    "#     loss = lambda pred: F.cross_entropy(pred, y)\n",
    "#     optim.step(model_res, loss)\n",
    "#     break"
   ]
  },
  {
   "cell_type": "code",
   "execution_count": null,
   "metadata": {},
   "outputs": [],
   "source": []
  },
  {
   "cell_type": "code",
   "execution_count": 3,
   "metadata": {},
   "outputs": [],
   "source": [
    "import torch\n",
    "def rosenbrock(u, v, noise_range=1):\n",
    "    noise = torch.rand(1) * noise_range + 1\n",
    "    return (1-u) ** 2 + 100 * noise * (v - u ** 2)**2"
   ]
  },
  {
   "cell_type": "code",
   "execution_count": 4,
   "metadata": {},
   "outputs": [
    {
     "name": "stdout",
     "output_type": "stream",
     "text": [
      "--------- Curve  ---------\n",
      "61252.51953125\n",
      "4.7451355039091655e+19\n",
      "inf\n",
      "inf\n",
      "nan\n",
      "Curve iterations: 5\n",
      "uv =  tensor([nan, inf], requires_grad=True)\n"
     ]
    }
   ],
   "source": [
    "print(\"--------- Curve  ---------\")\n",
    "uv = torch.tensor([-0.25, -0.25], requires_grad = True)\n",
    "optim = get_optimizer([uv], config['optimizer'])\n",
    "i = 0\n",
    "loss  = 99999\n",
    "while loss > 0.0005:\n",
    "    i+=1\n",
    "    optim.zero_grad()\n",
    "    loss = lambda uv: rosenbrock(uv[0], uv[1])\n",
    "    model_res = lambda: uv\n",
    "    loss = optim.step(model_res, loss)\n",
    "    print(loss)\n",
    "print(\"Curve iterations:\", i)\n",
    "print(\"uv = \", uv)"
   ]
  },
  {
   "cell_type": "code",
   "execution_count": 8,
   "metadata": {},
   "outputs": [
    {
     "name": "stdout",
     "output_type": "stream",
     "text": [
      "--------- Newton  ---------\n",
      "Newtom iterations: 5\n",
      "uv =  tensor([1.0000, 1.0000], requires_grad=True)\n"
     ]
    }
   ],
   "source": [
    "print(\"--------- Newton  ---------\")\n",
    "uv = torch.tensor([-0.25, -0.25], requires_grad = True)\n",
    "optim = get_optimizer([uv], config['optimizer'])\n",
    "i = 0\n",
    "loss  = 99999\n",
    "while loss > 0.0005:\n",
    "    i+=1\n",
    "    optim.zero_grad()\n",
    "    loss = lambda uv: rosenbrock(uv[0], uv[1])\n",
    "    model_res = lambda: uv\n",
    "    loss = optim.step(model_res, loss)\n",
    "print(\"Newtom iterations:\", i)\n",
    "print(\"uv = \", uv)"
   ]
  },
  {
   "cell_type": "code",
   "execution_count": 5,
   "metadata": {},
   "outputs": [
    {
     "name": "stdout",
     "output_type": "stream",
     "text": [
      "--------- SGD  ---------\n",
      "SGD iterations: 6667\n",
      "uv =  tensor([0.9777, 0.9558], requires_grad=True)\n"
     ]
    }
   ],
   "source": [
    "print(\"--------- SGD  ---------\")\n",
    "uv = torch.tensor([-0.25, -0.25], requires_grad = True)\n",
    "optimizer = torch.optim.SGD([uv], lr = 0.001)\n",
    "i = 0\n",
    "loss = 99999\n",
    "while loss > 0.0005:\n",
    "    i+=1\n",
    "    optimizer.zero_grad()\n",
    "    loss = rosenbrock(uv[0], uv[1])\n",
    "    loss.backward()\n",
    "    optimizer.step()\n",
    "print(\"SGD iterations:\", i)\n",
    "print(\"uv = \", uv)"
   ]
  },
  {
   "cell_type": "code",
   "execution_count": 7,
   "metadata": {},
   "outputs": [
    {
     "name": "stdout",
     "output_type": "stream",
     "text": [
      "--------- Adam  ---------\n",
      "Adam iterations: 2751\n",
      "uv =  tensor([0.9778, 0.9559], requires_grad=True)\n"
     ]
    }
   ],
   "source": [
    "print(\"--------- Adam  ---------\")\n",
    "uv = torch.tensor([-0.25, -0.25], requires_grad = True)\n",
    "optimizer = torch.optim.Adam([uv], lr = 0.01)\n",
    "i = 0\n",
    "loss = 99999\n",
    "while loss > 0.0005:\n",
    "    i+=1\n",
    "    optimizer.zero_grad()\n",
    "    loss = rosenbrock(uv[0], uv[1])\n",
    "    loss.backward()\n",
    "    optimizer.step()\n",
    "print(\"Adam iterations:\", i)\n",
    "print(\"uv = \", uv)"
   ]
  },
  {
   "cell_type": "code",
   "execution_count": null,
   "metadata": {},
   "outputs": [],
   "source": []
  }
 ],
 "metadata": {
  "kernelspec": {
   "display_name": "Python 3",
   "language": "python",
   "name": "python3"
  },
  "language_info": {
   "codemirror_mode": {
    "name": "ipython",
    "version": 3
   },
   "file_extension": ".py",
   "mimetype": "text/x-python",
   "name": "python",
   "nbconvert_exporter": "python",
   "pygments_lexer": "ipython3",
   "version": "3.7.4"
  },
  "latex_envs": {
   "LaTeX_envs_menu_present": true,
   "autoclose": false,
   "autocomplete": true,
   "bibliofile": "biblio.bib",
   "cite_by": "apalike",
   "current_citInitial": 1,
   "eqLabelWithNumbers": true,
   "eqNumInitial": 1,
   "hotkeys": {
    "equation": "Ctrl-E",
    "itemize": "Ctrl-I"
   },
   "labels_anchors": false,
   "latex_user_defs": false,
   "report_style_numbering": false,
   "user_envs_cfg": false
  },
  "toc": {
   "base_numbering": 1,
   "nav_menu": {},
   "number_sections": true,
   "sideBar": true,
   "skip_h1_title": false,
   "title_cell": "Table of Contents",
   "title_sidebar": "Contents",
   "toc_cell": false,
   "toc_position": {},
   "toc_section_display": true,
   "toc_window_display": false
  }
 },
 "nbformat": 4,
 "nbformat_minor": 2
}
