{
 "cells": [
  {
   "cell_type": "code",
   "execution_count": 1,
   "metadata": {},
   "outputs": [],
   "source": [
    "%load_ext autoreload\n",
    "%autoreload 2"
   ]
  },
  {
   "cell_type": "code",
   "execution_count": 2,
   "metadata": {},
   "outputs": [],
   "source": [
    "from befree.examples.utils import fit_model\n",
    "from befree.examples.print_stats import print_stats"
   ]
  },
  {
   "cell_type": "code",
   "execution_count": 4,
   "metadata": {},
   "outputs": [],
   "source": [
    "import os\n",
    "from matplotlib import pyplot as plt\n",
    "%matplotlib inline\n",
    "plt.rc('font', **{'size': 16})\n",
    "\n",
    "import torch\n",
    "torch.cuda.set_device(1)"
   ]
  },
  {
   "cell_type": "code",
   "execution_count": 5,
   "metadata": {},
   "outputs": [],
   "source": [
    "def build_config(path):\n",
    "    is_yaml = lambda f: 'yaml' in f\n",
    "    add_path = lambda f: path + f\n",
    "    \n",
    "    configs = os.listdir(path)\n",
    "    configs = filter(is_yaml, configs)\n",
    "    configs = map(add_path, configs)\n",
    "    return list(configs)"
   ]
  },
  {
   "cell_type": "markdown",
   "metadata": {},
   "source": [
    "### MNIST MLP"
   ]
  },
  {
   "cell_type": "code",
   "execution_count": 19,
   "metadata": {
    "scrolled": false
   },
   "outputs": [
    {
     "name": "stdout",
     "output_type": "stream",
     "text": [
      "--------------------\n",
      "SGD\n",
      "[1/10] epoch | Train Loss: 0.355 | accuracy : 0.889 | time: 3.89s\n",
      "[2/10] epoch | Train Loss: 0.133 | accuracy : 0.925 | time: 3.89s\n",
      "[3/10] epoch | Train Loss: 0.136 | accuracy : 0.949 | time: 3.89s\n",
      "[4/10] epoch | Train Loss: 0.164 | accuracy : 0.969 | time: 3.97s\n",
      "[5/10] epoch | Train Loss: 0.081 | accuracy : 0.972 | time: 3.94s\n",
      "[6/10] epoch | Train Loss: 0.049 | accuracy : 0.979 | time: 3.94s\n",
      "[7/10] epoch | Train Loss: 0.134 | accuracy : 0.968 | time: 3.91s\n",
      "[8/10] epoch | Train Loss: 0.099 | accuracy : 0.981 | time: 4.00s\n",
      "[9/10] epoch | Train Loss: 0.014 | accuracy : 0.983 | time: 4.00s\n",
      "[10/10] epoch | Train Loss: 0.051 | accuracy : 0.982 | time: 3.97s\n",
      "Times per iter 0.773 ms ± 23.656 µs\n",
      "--------------------\n",
      "Adam\n",
      "[1/10] epoch | Train Loss: 0.239 | accuracy : 0.931 | time: 4.24s\n",
      "[2/10] epoch | Train Loss: 0.073 | accuracy : 0.949 | time: 4.20s\n",
      "[3/10] epoch | Train Loss: 0.148 | accuracy : 0.961 | time: 4.19s\n",
      "[4/10] epoch | Train Loss: 0.116 | accuracy : 0.968 | time: 4.22s\n",
      "[5/10] epoch | Train Loss: 0.144 | accuracy : 0.972 | time: 4.25s\n",
      "[6/10] epoch | Train Loss: 0.068 | accuracy : 0.974 | time: 4.27s\n",
      "[7/10] epoch | Train Loss: 0.103 | accuracy : 0.978 | time: 4.26s\n",
      "[8/10] epoch | Train Loss: 0.123 | accuracy : 0.979 | time: 4.34s\n",
      "[9/10] epoch | Train Loss: 0.038 | accuracy : 0.983 | time: 4.34s\n",
      "[10/10] epoch | Train Loss: 0.037 | accuracy : 0.986 | time: 4.30s\n",
      "Times per iter 1.479 ms ± 48.577 µs\n",
      "--------------------\n",
      "Curveball\n",
      "[1/10] epoch | Train Loss: 0.035 | accuracy : 0.980 | time: 5.46s\n",
      "[2/10] epoch | Train Loss: 0.031 | accuracy : 0.987 | time: 5.42s\n",
      "[3/10] epoch | Train Loss: 0.053 | accuracy : 0.991 | time: 5.42s\n",
      "[4/10] epoch | Train Loss: 0.028 | accuracy : 0.992 | time: 5.47s\n",
      "[5/10] epoch | Train Loss: 0.008 | accuracy : 0.998 | time: 5.43s\n",
      "[6/10] epoch | Train Loss: 0.009 | accuracy : 0.996 | time: 5.36s\n",
      "[7/10] epoch | Train Loss: 0.009 | accuracy : 0.998 | time: 5.39s\n",
      "[8/10] epoch | Train Loss: 0.025 | accuracy : 0.998 | time: 5.45s\n",
      "[9/10] epoch | Train Loss: 0.014 | accuracy : 0.999 | time: 5.31s\n",
      "[10/10] epoch | Train Loss: 0.004 | accuracy : 0.999 | time: 5.31s\n",
      "Times per iter 3.934 ms ± 128.728 µs\n"
     ]
    }
   ],
   "source": [
    "PATH = 'befree/config/'\n",
    "NAME = 'mnist_MLP'\n",
    "CONFIG = PATH + NAME + '/'\n",
    "\n",
    "SAVE_TEST = False\n",
    "DRAW_IMG = False\n",
    "SAVE_IMG = False\n",
    "\n",
    "\n",
    "configs = build_config(CONFIG)\n",
    "stats = dict([fit_model(config, save_test=SAVE_TEST) for config in configs])"
   ]
  },
  {
   "cell_type": "code",
   "execution_count": null,
   "metadata": {},
   "outputs": [],
   "source": [
    "if DRAW_IMG:\n",
    "    print_stats(stats, step=50, figsize=(18, 5))\n",
    "    if SAVE_IMG: plt.savefig('imgs/' + NAME +'.png', dpi=300)\n",
    "    plt.show()"
   ]
  },
  {
   "cell_type": "markdown",
   "metadata": {},
   "source": [
    "### MNIST MLP + BN"
   ]
  },
  {
   "cell_type": "code",
   "execution_count": 20,
   "metadata": {},
   "outputs": [
    {
     "name": "stdout",
     "output_type": "stream",
     "text": [
      "--------------------\n",
      "Curveball\n",
      "[1/10] epoch | Train Loss: 0.045 | accuracy : 0.994 | time: 7.48s\n",
      "[2/10] epoch | Train Loss: 0.025 | accuracy : 0.997 | time: 7.60s\n",
      "[3/10] epoch | Train Loss: 0.016 | accuracy : 0.999 | time: 7.59s\n",
      "[4/10] epoch | Train Loss: 0.009 | accuracy : 1.000 | time: 7.47s\n",
      "[5/10] epoch | Train Loss: 0.011 | accuracy : 1.000 | time: 7.50s\n",
      "[6/10] epoch | Train Loss: 0.006 | accuracy : 1.000 | time: 7.44s\n",
      "[7/10] epoch | Train Loss: 0.005 | accuracy : 0.999 | time: 7.53s\n",
      "[8/10] epoch | Train Loss: 0.017 | accuracy : 0.999 | time: 7.51s\n",
      "[9/10] epoch | Train Loss: 0.007 | accuracy : 0.999 | time: 7.54s\n",
      "[10/10] epoch | Train Loss: 0.002 | accuracy : 1.000 | time: 7.38s\n",
      "Times per iter 8.321 ms ± 154.304 µs\n",
      "--------------------\n",
      "SGD\n",
      "[1/10] epoch | Train Loss: 0.459 | accuracy : 0.921 | time: 4.06s\n",
      "[2/10] epoch | Train Loss: 0.178 | accuracy : 0.948 | time: 4.06s\n",
      "[3/10] epoch | Train Loss: 0.153 | accuracy : 0.955 | time: 4.06s\n",
      "[4/10] epoch | Train Loss: 0.120 | accuracy : 0.969 | time: 4.06s\n",
      "[5/10] epoch | Train Loss: 0.133 | accuracy : 0.974 | time: 4.12s\n",
      "[6/10] epoch | Train Loss: 0.086 | accuracy : 0.976 | time: 4.12s\n",
      "[7/10] epoch | Train Loss: 0.081 | accuracy : 0.977 | time: 4.12s\n",
      "[8/10] epoch | Train Loss: 0.131 | accuracy : 0.980 | time: 4.12s\n",
      "[9/10] epoch | Train Loss: 0.048 | accuracy : 0.986 | time: 4.12s\n",
      "[10/10] epoch | Train Loss: 0.096 | accuracy : 0.985 | time: 4.17s\n",
      "Times per iter 1.153 ms ± 30.103 µs\n",
      "--------------------\n",
      "Adam\n",
      "[1/10] epoch | Train Loss: 0.175 | accuracy : 0.966 | time: 4.75s\n",
      "[2/10] epoch | Train Loss: 0.109 | accuracy : 0.970 | time: 4.74s\n",
      "[3/10] epoch | Train Loss: 0.073 | accuracy : 0.981 | time: 4.74s\n",
      "[4/10] epoch | Train Loss: 0.074 | accuracy : 0.982 | time: 4.75s\n",
      "[5/10] epoch | Train Loss: 0.039 | accuracy : 0.987 | time: 4.75s\n",
      "[6/10] epoch | Train Loss: 0.049 | accuracy : 0.986 | time: 4.75s\n",
      "[7/10] epoch | Train Loss: 0.029 | accuracy : 0.990 | time: 4.73s\n",
      "[8/10] epoch | Train Loss: 0.010 | accuracy : 0.989 | time: 4.69s\n",
      "[9/10] epoch | Train Loss: 0.008 | accuracy : 0.993 | time: 4.70s\n",
      "[10/10] epoch | Train Loss: 0.017 | accuracy : 0.994 | time: 4.72s\n",
      "Times per iter 2.388 ms ± 53.976 µs\n"
     ]
    }
   ],
   "source": [
    "PATH = 'befree/config/'\n",
    "NAME = 'mnist_MLP+BN'\n",
    "CONFIG = PATH + NAME + '/'\n",
    "\n",
    "SAVE_TEST = False\n",
    "DRAW_IMG = False\n",
    "SAVE_IMG = False\n",
    "\n",
    "configs = build_config(CONFIG)\n",
    "stats = dict([fit_model(config, save_test=SAVE_TEST) for config in configs])"
   ]
  },
  {
   "cell_type": "code",
   "execution_count": null,
   "metadata": {},
   "outputs": [],
   "source": [
    "if DRAW_IMG:\n",
    "    print_stats(stats, step=50, figsize=(18, 5))\n",
    "    if SAVE_IMG: plt.savefig('imgs/' + NAME +'.png', dpi=300)\n",
    "    plt.show()"
   ]
  },
  {
   "cell_type": "markdown",
   "metadata": {},
   "source": [
    "### CIFAR10 CNN"
   ]
  },
  {
   "cell_type": "code",
   "execution_count": 21,
   "metadata": {},
   "outputs": [
    {
     "name": "stdout",
     "output_type": "stream",
     "text": [
      "Files already downloaded and verified\n",
      "--------------------\n",
      "Curveball\n",
      "[1/10] epoch | Train Loss: 1.341 | accuracy : 0.495 | time: 12.20s\n",
      "[2/10] epoch | Train Loss: 1.223 | accuracy : 0.596 | time: 12.10s\n",
      "[3/10] epoch | Train Loss: 0.910 | accuracy : 0.692 | time: 12.10s\n",
      "[4/10] epoch | Train Loss: 0.873 | accuracy : 0.738 | time: 12.23s\n",
      "[5/10] epoch | Train Loss: 0.679 | accuracy : 0.777 | time: 12.24s\n",
      "[6/10] epoch | Train Loss: 0.546 | accuracy : 0.815 | time: 12.23s\n",
      "[7/10] epoch | Train Loss: 0.459 | accuracy : 0.829 | time: 12.22s\n",
      "[8/10] epoch | Train Loss: 0.447 | accuracy : 0.846 | time: 12.17s\n",
      "[9/10] epoch | Train Loss: 0.498 | accuracy : 0.872 | time: 12.15s\n",
      "[10/10] epoch | Train Loss: 0.345 | accuracy : 0.888 | time: 12.14s\n",
      "Times per iter 16.570 ms ± 248.511 µs\n",
      "Files already downloaded and verified\n",
      "--------------------\n",
      "SGD\n",
      "[1/10] epoch | Train Loss: 1.785 | accuracy : 0.368 | time: 6.97s\n",
      "[2/10] epoch | Train Loss: 1.390 | accuracy : 0.484 | time: 7.04s\n",
      "[3/10] epoch | Train Loss: 1.164 | accuracy : 0.524 | time: 7.04s\n",
      "[4/10] epoch | Train Loss: 1.250 | accuracy : 0.581 | time: 7.05s\n",
      "[5/10] epoch | Train Loss: 1.088 | accuracy : 0.622 | time: 6.99s\n",
      "[6/10] epoch | Train Loss: 1.046 | accuracy : 0.651 | time: 6.99s\n",
      "[7/10] epoch | Train Loss: 0.876 | accuracy : 0.668 | time: 6.98s\n",
      "[8/10] epoch | Train Loss: 0.921 | accuracy : 0.709 | time: 6.98s\n",
      "[9/10] epoch | Train Loss: 0.844 | accuracy : 0.714 | time: 6.94s\n",
      "[10/10] epoch | Train Loss: 0.678 | accuracy : 0.729 | time: 6.92s\n",
      "Times per iter 1.177 ms ± 43.204 µs\n",
      "Files already downloaded and verified\n",
      "--------------------\n",
      "Adam\n",
      "[1/10] epoch | Train Loss: 1.372 | accuracy : 0.500 | time: 7.00s\n",
      "[2/10] epoch | Train Loss: 1.186 | accuracy : 0.587 | time: 7.00s\n",
      "[3/10] epoch | Train Loss: 1.115 | accuracy : 0.625 | time: 6.99s\n",
      "[4/10] epoch | Train Loss: 0.879 | accuracy : 0.671 | time: 7.01s\n",
      "[5/10] epoch | Train Loss: 0.956 | accuracy : 0.690 | time: 7.00s\n",
      "[6/10] epoch | Train Loss: 0.818 | accuracy : 0.712 | time: 6.99s\n",
      "[7/10] epoch | Train Loss: 0.995 | accuracy : 0.728 | time: 7.02s\n",
      "[8/10] epoch | Train Loss: 0.751 | accuracy : 0.740 | time: 7.12s\n",
      "[9/10] epoch | Train Loss: 0.890 | accuracy : 0.745 | time: 7.02s\n",
      "[10/10] epoch | Train Loss: 0.721 | accuracy : 0.757 | time: 7.06s\n",
      "Times per iter 2.079 ms ± 46.154 µs\n"
     ]
    }
   ],
   "source": [
    "PATH = 'befree/config/'\n",
    "NAME = 'cifar10_CNN'\n",
    "CONFIG = PATH + NAME + '/'\n",
    "\n",
    "SAVE_TEST = False\n",
    "DRAW_IMG = False\n",
    "SAVE_IMG = False\n",
    "\n",
    "configs = build_config(CONFIG)\n",
    "stats = dict([fit_model(config, save_test=SAVE_TEST) for config in configs])"
   ]
  },
  {
   "cell_type": "code",
   "execution_count": null,
   "metadata": {},
   "outputs": [],
   "source": [
    "if DRAW_IMG:\n",
    "    print_stats(stats, step=50, figsize=(18, 5))\n",
    "    if SAVE_IMG: plt.savefig('imgs/' + NAME +'.png', dpi=300)\n",
    "    plt.show()"
   ]
  },
  {
   "cell_type": "markdown",
   "metadata": {},
   "source": [
    "### CIFAR10 CNN+BN"
   ]
  },
  {
   "cell_type": "code",
   "execution_count": 22,
   "metadata": {},
   "outputs": [
    {
     "name": "stdout",
     "output_type": "stream",
     "text": [
      "Files already downloaded and verified\n",
      "--------------------\n",
      "Adam\n",
      "[1/10] epoch | Train Loss: 1.006 | accuracy : 0.671 | time: 7.41s\n",
      "[2/10] epoch | Train Loss: 0.765 | accuracy : 0.706 | time: 7.36s\n",
      "[3/10] epoch | Train Loss: 0.705 | accuracy : 0.749 | time: 7.37s\n",
      "[4/10] epoch | Train Loss: 0.554 | accuracy : 0.773 | time: 7.37s\n",
      "[5/10] epoch | Train Loss: 0.442 | accuracy : 0.806 | time: 7.33s\n",
      "[6/10] epoch | Train Loss: 0.537 | accuracy : 0.811 | time: 7.31s\n",
      "[7/10] epoch | Train Loss: 0.359 | accuracy : 0.832 | time: 7.32s\n",
      "[8/10] epoch | Train Loss: 0.347 | accuracy : 0.837 | time: 7.43s\n",
      "[9/10] epoch | Train Loss: 0.518 | accuracy : 0.861 | time: 7.30s\n",
      "[10/10] epoch | Train Loss: 0.386 | accuracy : 0.855 | time: 7.30s\n",
      "Times per iter 3.269 ms ± 66.961 µs\n",
      "Files already downloaded and verified\n",
      "--------------------\n",
      "Curveball\n",
      "[1/10] epoch | Train Loss: 0.671 | accuracy : 0.756 | time: 19.57s\n",
      "[2/10] epoch | Train Loss: 0.472 | accuracy : 0.827 | time: 19.61s\n",
      "[3/10] epoch | Train Loss: 0.515 | accuracy : 0.877 | time: 19.63s\n",
      "[4/10] epoch | Train Loss: 0.432 | accuracy : 0.883 | time: 19.63s\n",
      "[5/10] epoch | Train Loss: 0.343 | accuracy : 0.904 | time: 19.70s\n",
      "[6/10] epoch | Train Loss: 0.387 | accuracy : 0.924 | time: 19.69s\n",
      "[7/10] epoch | Train Loss: 0.221 | accuracy : 0.941 | time: 19.61s\n",
      "[8/10] epoch | Train Loss: 0.302 | accuracy : 0.943 | time: 19.62s\n",
      "[9/10] epoch | Train Loss: 0.206 | accuracy : 0.963 | time: 19.62s\n",
      "[10/10] epoch | Train Loss: 0.121 | accuracy : 0.964 | time: 19.64s\n",
      "Times per iter 35.791 ms ± 557.260 µs\n",
      "Files already downloaded and verified\n",
      "--------------------\n",
      "SGD\n",
      "[1/10] epoch | Train Loss: 1.343 | accuracy : 0.557 | time: 7.25s\n",
      "[2/10] epoch | Train Loss: 1.148 | accuracy : 0.635 | time: 7.23s\n",
      "[3/10] epoch | Train Loss: 0.927 | accuracy : 0.691 | time: 7.33s\n",
      "[4/10] epoch | Train Loss: 0.892 | accuracy : 0.710 | time: 7.33s\n",
      "[5/10] epoch | Train Loss: 0.801 | accuracy : 0.723 | time: 7.33s\n",
      "[6/10] epoch | Train Loss: 0.735 | accuracy : 0.749 | time: 7.32s\n",
      "[7/10] epoch | Train Loss: 0.583 | accuracy : 0.769 | time: 7.31s\n",
      "[8/10] epoch | Train Loss: 0.622 | accuracy : 0.773 | time: 7.26s\n",
      "[9/10] epoch | Train Loss: 0.674 | accuracy : 0.788 | time: 7.20s\n",
      "[10/10] epoch | Train Loss: 0.587 | accuracy : 0.806 | time: 7.19s\n",
      "Times per iter 1.720 ms ± 39.037 µs\n"
     ]
    }
   ],
   "source": [
    "PATH = 'befree/config/'\n",
    "NAME = 'cifar10_CNN+BN'\n",
    "CONFIG = PATH + NAME + '/'\n",
    "\n",
    "SAVE_TEST = False\n",
    "DRAW_IMG = False\n",
    "SAVE_IMG = False\n",
    "\n",
    "configs = build_config(CONFIG)\n",
    "stats = dict([fit_model(config, save_test=SAVE_TEST) for config in configs])"
   ]
  },
  {
   "cell_type": "code",
   "execution_count": null,
   "metadata": {},
   "outputs": [],
   "source": [
    "if DRAW_IMG:\n",
    "    print_stats(stats, step=50, figsize=(18, 5))\n",
    "    if SAVE_IMG: plt.savefig('imgs/' + NAME +'.png', dpi=300)\n",
    "    plt.show()"
   ]
  },
  {
   "cell_type": "markdown",
   "metadata": {},
   "source": [
    "### CIFAR10 Resnet18"
   ]
  },
  {
   "cell_type": "code",
   "execution_count": 23,
   "metadata": {},
   "outputs": [
    {
     "name": "stdout",
     "output_type": "stream",
     "text": [
      "Files already downloaded and verified\n",
      "--------------------\n",
      "SGD\n",
      "[1/10] epoch | Train Loss: 1.495 | accuracy : 0.472 | time: 13.32s\n",
      "[2/10] epoch | Train Loss: 1.160 | accuracy : 0.565 | time: 13.39s\n",
      "[3/10] epoch | Train Loss: 0.983 | accuracy : 0.587 | time: 13.39s\n",
      "[4/10] epoch | Train Loss: 0.937 | accuracy : 0.653 | time: 13.42s\n",
      "[5/10] epoch | Train Loss: 0.767 | accuracy : 0.709 | time: 13.42s\n",
      "[6/10] epoch | Train Loss: 0.645 | accuracy : 0.752 | time: 13.45s\n",
      "[7/10] epoch | Train Loss: 0.725 | accuracy : 0.804 | time: 13.47s\n",
      "[8/10] epoch | Train Loss: 0.508 | accuracy : 0.841 | time: 13.47s\n",
      "[9/10] epoch | Train Loss: 0.308 | accuracy : 0.874 | time: 13.46s\n",
      "[10/10] epoch | Train Loss: 0.161 | accuracy : 0.906 | time: 13.46s\n",
      "Times per iter 6.030 ms ± 80.337 µs\n",
      "Files already downloaded and verified\n",
      "--------------------\n",
      "Curveball\n",
      "[1/10] epoch | Train Loss: 1.063 | accuracy : 0.662 | time: 62.76s\n",
      "[2/10] epoch | Train Loss: 1.133 | accuracy : 0.730 | time: 62.70s\n",
      "[3/10] epoch | Train Loss: 0.393 | accuracy : 0.819 | time: 62.71s\n",
      "[4/10] epoch | Train Loss: 0.395 | accuracy : 0.898 | time: 62.76s\n",
      "[5/10] epoch | Train Loss: 0.174 | accuracy : 0.945 | time: 62.66s\n",
      "[6/10] epoch | Train Loss: 0.120 | accuracy : 0.978 | time: 62.64s\n",
      "[7/10] epoch | Train Loss: 0.120 | accuracy : 0.990 | time: 62.73s\n",
      "[8/10] epoch | Train Loss: 0.031 | accuracy : 0.995 | time: 62.75s\n",
      "[9/10] epoch | Train Loss: 0.016 | accuracy : 0.998 | time: 62.72s\n",
      "[10/10] epoch | Train Loss: 0.007 | accuracy : 0.999 | time: 62.71s\n",
      "Times per iter 143.728 ms ± 1278.879 µs\n",
      "Files already downloaded and verified\n",
      "--------------------\n",
      "Adam\n",
      "[1/10] epoch | Train Loss: 1.170 | accuracy : 0.601 | time: 14.38s\n",
      "[2/10] epoch | Train Loss: 0.952 | accuracy : 0.679 | time: 14.44s\n",
      "[3/10] epoch | Train Loss: 0.750 | accuracy : 0.726 | time: 14.44s\n",
      "[4/10] epoch | Train Loss: 0.566 | accuracy : 0.772 | time: 14.39s\n",
      "[5/10] epoch | Train Loss: 0.519 | accuracy : 0.797 | time: 14.37s\n",
      "[6/10] epoch | Train Loss: 0.512 | accuracy : 0.829 | time: 14.37s\n",
      "[7/10] epoch | Train Loss: 0.453 | accuracy : 0.846 | time: 14.39s\n",
      "[8/10] epoch | Train Loss: 0.302 | accuracy : 0.873 | time: 14.43s\n",
      "[9/10] epoch | Train Loss: 0.254 | accuracy : 0.902 | time: 14.42s\n",
      "[10/10] epoch | Train Loss: 0.328 | accuracy : 0.918 | time: 14.42s\n",
      "Times per iter 11.369 ms ± 113.661 µs\n"
     ]
    }
   ],
   "source": [
    "PATH = 'befree/config/'\n",
    "NAME = 'cifar10_resnet18'\n",
    "CONFIG = PATH + NAME + '/'\n",
    "\n",
    "SAVE_TEST = False\n",
    "DRAW_IMG = False\n",
    "SAVE_IMG = False\n",
    "\n",
    "configs = build_config(CONFIG)\n",
    "stats = dict([fit_model(config, save_test=SAVE_TEST) for config in configs])"
   ]
  },
  {
   "cell_type": "code",
   "execution_count": null,
   "metadata": {},
   "outputs": [],
   "source": [
    "if DRAW_IMG:\n",
    "    print_stats(stats, step=50, figsize=(18, 5))\n",
    "    if SAVE_IMG: plt.savefig('imgs/' + NAME +'.png', dpi=300)\n",
    "    plt.show()"
   ]
  },
  {
   "cell_type": "code",
   "execution_count": null,
   "metadata": {},
   "outputs": [],
   "source": []
  }
 ],
 "metadata": {
  "kernelspec": {
   "display_name": "Python 3",
   "language": "python",
   "name": "python3"
  },
  "language_info": {
   "codemirror_mode": {
    "name": "ipython",
    "version": 3
   },
   "file_extension": ".py",
   "mimetype": "text/x-python",
   "name": "python",
   "nbconvert_exporter": "python",
   "pygments_lexer": "ipython3",
   "version": "3.7.3"
  }
 },
 "nbformat": 4,
 "nbformat_minor": 2
}
